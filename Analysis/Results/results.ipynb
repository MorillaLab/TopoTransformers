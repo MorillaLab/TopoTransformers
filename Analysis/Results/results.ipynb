{
 "cells": [
  {
   "cell_type": "markdown",
   "id": "39aeaf35",
   "metadata": {},
   "source": [
    "Based on the provided information, the best result for learning on dataset Y1 risk of mortality was achieved using the training algorithm with constant learning rate and momentum, with a perfect training set score of 1.000 and a training set loss of 0.002. The algorithms with Nesterov's momentum also produced similar results, with a training set score of 1.000 and a training set loss of 0.002 for constant learning rate and 0.186 for inv-scaling learning rate. Patient_XXX optimizer also produced a perfect training set score of 1.000 and a training set loss of 0.002. However, the inv-scaling learning rate algorithm without momentum had a lower training set score of 0.826 and a higher training set loss of 0.410."
   ]
  }
 ],
 "metadata": {},
 "nbformat": 4,
 "nbformat_minor": 5
}
